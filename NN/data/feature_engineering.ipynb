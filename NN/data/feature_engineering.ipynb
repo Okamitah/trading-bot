{
 "cells": [
  {
   "cell_type": "markdown",
   "id": "e70d1e03-7c85-46a1-ae35-498019134d38",
   "metadata": {},
   "source": [
    "# **Feature engineering my crypto data**"
   ]
  },
  {
   "cell_type": "markdown",
   "id": "e7543958-a85b-4a6a-9259-e6ec656b94a4",
   "metadata": {},
   "source": [
    "In this *notebook*, I will add some important *features* to my data, that initially has only *prices* (close, high, low and open) and *volume*, which doesn't offer that much info to train a model to predict future prices."
   ]
  },
  {
   "cell_type": "code",
   "execution_count": 2,
   "id": "a59fef11-65c7-452f-8f45-000b20a25546",
   "metadata": {},
   "outputs": [],
   "source": [
    "import pandas as pd"
   ]
  },
  {
   "cell_type": "markdown",
   "id": "2f2a8634-6960-46b6-87b9-80cb1bf3e054",
   "metadata": {},
   "source": [
    "Let's load and have a peak into our data"
   ]
  },
  {
   "cell_type": "code",
   "execution_count": 8,
   "id": "b3760423-231c-47e0-ae92-ec10512763f8",
   "metadata": {},
   "outputs": [
    {
     "data": {
      "text/html": [
       "<div>\n",
       "<style scoped>\n",
       "    .dataframe tbody tr th:only-of-type {\n",
       "        vertical-align: middle;\n",
       "    }\n",
       "\n",
       "    .dataframe tbody tr th {\n",
       "        vertical-align: top;\n",
       "    }\n",
       "\n",
       "    .dataframe thead th {\n",
       "        text-align: right;\n",
       "    }\n",
       "</style>\n",
       "<table border=\"1\" class=\"dataframe\">\n",
       "  <thead>\n",
       "    <tr style=\"text-align: right;\">\n",
       "      <th></th>\n",
       "      <th>Price</th>\n",
       "      <th>Close</th>\n",
       "      <th>High</th>\n",
       "      <th>Low</th>\n",
       "      <th>Open</th>\n",
       "      <th>Volume</th>\n",
       "    </tr>\n",
       "  </thead>\n",
       "  <tbody>\n",
       "    <tr>\n",
       "      <th>0</th>\n",
       "      <td>Ticker</td>\n",
       "      <td>BTC-USD</td>\n",
       "      <td>BTC-USD</td>\n",
       "      <td>BTC-USD</td>\n",
       "      <td>BTC-USD</td>\n",
       "      <td>BTC-USD</td>\n",
       "    </tr>\n",
       "    <tr>\n",
       "      <th>1</th>\n",
       "      <td>Date</td>\n",
       "      <td>NaN</td>\n",
       "      <td>NaN</td>\n",
       "      <td>NaN</td>\n",
       "      <td>NaN</td>\n",
       "      <td>NaN</td>\n",
       "    </tr>\n",
       "    <tr>\n",
       "      <th>2</th>\n",
       "      <td>2014-09-17</td>\n",
       "      <td>457.3340148925781</td>\n",
       "      <td>468.17401123046875</td>\n",
       "      <td>452.4219970703125</td>\n",
       "      <td>465.864013671875</td>\n",
       "      <td>21056800</td>\n",
       "    </tr>\n",
       "    <tr>\n",
       "      <th>3</th>\n",
       "      <td>2014-09-18</td>\n",
       "      <td>424.44000244140625</td>\n",
       "      <td>456.8599853515625</td>\n",
       "      <td>413.10400390625</td>\n",
       "      <td>456.8599853515625</td>\n",
       "      <td>34483200</td>\n",
       "    </tr>\n",
       "    <tr>\n",
       "      <th>4</th>\n",
       "      <td>2014-09-19</td>\n",
       "      <td>394.7959899902344</td>\n",
       "      <td>427.8349914550781</td>\n",
       "      <td>384.5320129394531</td>\n",
       "      <td>424.1029968261719</td>\n",
       "      <td>37919700</td>\n",
       "    </tr>\n",
       "    <tr>\n",
       "      <th>5</th>\n",
       "      <td>2014-09-20</td>\n",
       "      <td>408.90399169921875</td>\n",
       "      <td>423.2959899902344</td>\n",
       "      <td>389.88299560546875</td>\n",
       "      <td>394.6730041503906</td>\n",
       "      <td>36863600</td>\n",
       "    </tr>\n",
       "    <tr>\n",
       "      <th>6</th>\n",
       "      <td>2014-09-21</td>\n",
       "      <td>398.8210144042969</td>\n",
       "      <td>412.4259948730469</td>\n",
       "      <td>393.1809997558594</td>\n",
       "      <td>408.0849914550781</td>\n",
       "      <td>26580100</td>\n",
       "    </tr>\n",
       "    <tr>\n",
       "      <th>7</th>\n",
       "      <td>2014-09-22</td>\n",
       "      <td>402.1520080566406</td>\n",
       "      <td>406.9159851074219</td>\n",
       "      <td>397.1300048828125</td>\n",
       "      <td>399.1000061035156</td>\n",
       "      <td>24127600</td>\n",
       "    </tr>\n",
       "    <tr>\n",
       "      <th>8</th>\n",
       "      <td>2014-09-23</td>\n",
       "      <td>435.7909851074219</td>\n",
       "      <td>441.5570068359375</td>\n",
       "      <td>396.1969909667969</td>\n",
       "      <td>402.0920104980469</td>\n",
       "      <td>45099500</td>\n",
       "    </tr>\n",
       "    <tr>\n",
       "      <th>9</th>\n",
       "      <td>2014-09-24</td>\n",
       "      <td>423.2049865722656</td>\n",
       "      <td>436.11199951171875</td>\n",
       "      <td>421.1319885253906</td>\n",
       "      <td>435.7510070800781</td>\n",
       "      <td>30627700</td>\n",
       "    </tr>\n",
       "  </tbody>\n",
       "</table>\n",
       "</div>"
      ],
      "text/plain": [
       "        Price               Close                High                 Low  \\\n",
       "0      Ticker             BTC-USD             BTC-USD             BTC-USD   \n",
       "1        Date                 NaN                 NaN                 NaN   \n",
       "2  2014-09-17   457.3340148925781  468.17401123046875   452.4219970703125   \n",
       "3  2014-09-18  424.44000244140625   456.8599853515625     413.10400390625   \n",
       "4  2014-09-19   394.7959899902344   427.8349914550781   384.5320129394531   \n",
       "5  2014-09-20  408.90399169921875   423.2959899902344  389.88299560546875   \n",
       "6  2014-09-21   398.8210144042969   412.4259948730469   393.1809997558594   \n",
       "7  2014-09-22   402.1520080566406   406.9159851074219   397.1300048828125   \n",
       "8  2014-09-23   435.7909851074219   441.5570068359375   396.1969909667969   \n",
       "9  2014-09-24   423.2049865722656  436.11199951171875   421.1319885253906   \n",
       "\n",
       "                Open    Volume  \n",
       "0            BTC-USD   BTC-USD  \n",
       "1                NaN       NaN  \n",
       "2   465.864013671875  21056800  \n",
       "3  456.8599853515625  34483200  \n",
       "4  424.1029968261719  37919700  \n",
       "5  394.6730041503906  36863600  \n",
       "6  408.0849914550781  26580100  \n",
       "7  399.1000061035156  24127600  \n",
       "8  402.0920104980469  45099500  \n",
       "9  435.7510070800781  30627700  "
      ]
     },
     "execution_count": 8,
     "metadata": {},
     "output_type": "execute_result"
    }
   ],
   "source": [
    "btc = pd.read_csv('coins_data/btc.csv')\n",
    "eth = pd.read_csv('coins_data/eth.csv')\n",
    "sol = pd.read_csv('coins_data/sol.csv')\n",
    "bnb = pd.read_csv('coins_data/bnb.csv')\n",
    "btc.head(10)"
   ]
  },
  {
   "cell_type": "markdown",
   "id": "c2d72502-3669-4516-9991-86f2115a7c8f",
   "metadata": {},
   "source": [
    "## **1. Moving averages (MA)**"
   ]
  },
  {
   "cell_type": "markdown",
   "id": "ad50d914-bad4-467a-b05e-f42664883969",
   "metadata": {},
   "source": [
    "The first feature we'll 'engineer', is moving averages."
   ]
  },
  {
   "cell_type": "markdown",
   "id": "1b2e5706-f296-49ab-b582-a92218a4582e",
   "metadata": {},
   "source": [
    "Moving averages in crypto trading smooth out price data to identify trends by calculating the average price over a specific period. They help traders spot potential buy/sell signals, support/resistance levels, and trend reversals."
   ]
  },
  {
   "cell_type": "markdown",
   "id": "9f40ff3d-6e8f-420a-9513-2990853ea082",
   "metadata": {},
   "source": [
    "### **a. 3-day MA**"
   ]
  },
  {
   "cell_type": "markdown",
   "id": "205b2e27-77a5-40ad-b650-87341ae6aef2",
   "metadata": {},
   "source": [
    "We'll start with a 3 day moving average, "
   ]
  },
  {
   "cell_type": "markdown",
   "id": "f986f5f0-9d36-47d2-8e9f-91b1ab0fe382",
   "metadata": {},
   "source": [
    "## **2.**"
   ]
  }
 ],
 "metadata": {
  "kernelspec": {
   "display_name": "Python 3 (ipykernel)",
   "language": "python",
   "name": "python3"
  },
  "language_info": {
   "codemirror_mode": {
    "name": "ipython",
    "version": 3
   },
   "file_extension": ".py",
   "mimetype": "text/x-python",
   "name": "python",
   "nbconvert_exporter": "python",
   "pygments_lexer": "ipython3",
   "version": "3.13.2"
  }
 },
 "nbformat": 4,
 "nbformat_minor": 5
}
